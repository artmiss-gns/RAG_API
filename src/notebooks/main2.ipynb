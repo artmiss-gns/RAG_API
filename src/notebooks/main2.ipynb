{
 "cells": [
  {
   "cell_type": "code",
   "execution_count": 12,
   "metadata": {},
   "outputs": [],
   "source": [
    "import os\n",
    "from llama_index.core.llms import CustomLLM, CompletionResponse, CompletionResponseGen\n",
    "from typing import Any, List, Optional\n",
    "# from groq import Groq, GroqError\n",
    "\n",
    "from llama_index.core import ServiceContext, VectorStoreIndex\n",
    "from llama_index.llms.langchain import LangChainLLM\n",
    "from llama_index.llms.groq import Groq\n",
    "\n",
    "import requests\n",
    "from pathlib import Path\n",
    "from pprint import pprint\n",
    "from dotenv import load_dotenv\n",
    "import nest_asyncio\n",
    "\n",
    "from llama_index.embeddings.cohere import CohereEmbedding\n",
    "from llama_index.core import VectorStoreIndex, Document\n",
    "\n",
    "from llama_index.core import VectorStoreIndex, get_response_synthesizer\n",
    "from llama_index.core.retrievers import VectorIndexRetriever, SummaryIndexRetriever, TransformRetriever\n",
    "\n",
    "from llama_index.core.query_engine import RetrieverQueryEngine\n",
    "from llama_index.core.postprocessor import SimilarityPostprocessor\n",
    "\n",
    "from llama_parse import LlamaParse\n",
    "from llama_index.core import SimpleDirectoryReader\n",
    "\n",
    "from llama_index.embeddings.openai import OpenAIEmbedding\n",
    "from llama_index.core.node_parser import SentenceSplitter\n",
    "from llama_index.llms.openai import OpenAI\n",
    "from llama_index.core import Settings\n",
    "\n",
    "\n",
    "from dotenv import load_dotenv\n",
    "import nest_asyncio\n",
    "\n",
    "load_dotenv()\n",
    "nest_asyncio.apply()"
   ]
  },
  {
   "cell_type": "code",
   "execution_count": 13,
   "metadata": {},
   "outputs": [],
   "source": [
    "GROQ_API_KEY = os.environ[\"GROQ_API_KEY\"] \n",
    "COHERE_API_KEY = os.environ[\"COHERE_API_KEY\"] \n",
    "LLAMA_CLOUD_API_KEY = os.environ[\"LLAMA_CLOUD_API_KEY\"]"
   ]
  },
  {
   "cell_type": "code",
   "execution_count": 14,
   "metadata": {},
   "outputs": [],
   "source": [
    "llm = Groq(\n",
    "    model=\"llama3-groq-70b-8192-tool-use-preview\", api_key=GROQ_API_KEY\n",
    ")"
   ]
  },
  {
   "cell_type": "code",
   "execution_count": 15,
   "metadata": {},
   "outputs": [],
   "source": [
    "def load_documents(doc_path: Path):\n",
    "    file_type = doc_path.suffix\n",
    "    parser = LlamaParse(\n",
    "        result_type=\"text\",\n",
    "    )\n",
    "    file_extractor = {file_type: parser}\n",
    "    documents = SimpleDirectoryReader(input_files=[doc_path], file_extractor=file_extractor).load_data()\n",
    "\n",
    "    return documents\n"
   ]
  },
  {
   "cell_type": "code",
   "execution_count": 16,
   "metadata": {},
   "outputs": [
    {
     "name": "stdout",
     "output_type": "stream",
     "text": [
      "Started parsing the file under job_id 01acc329-0f47-4b86-8f43-09a0ebfddaab\n"
     ]
    }
   ],
   "source": [
    "doc_path = Path(\"../data/Academic-CV-V1 .pdf\")\n",
    "documents = load_documents(doc_path)"
   ]
  },
  {
   "cell_type": "code",
   "execution_count": 18,
   "metadata": {},
   "outputs": [],
   "source": [
    "llm = Groq(\n",
    "    model=\"llama3-groq-70b-8192-tool-use-preview\",\n",
    "     api_key=GROQ_API_KEY\n",
    ")\n",
    "\n",
    "embed_model = CohereEmbedding(\n",
    "    api_key=COHERE_API_KEY,\n",
    "    model_name=\"embed-english-v3.0\",\n",
    "    input_type=\"search_query\",\n",
    ")"
   ]
  },
  {
   "cell_type": "code",
   "execution_count": 19,
   "metadata": {},
   "outputs": [],
   "source": [
    "\n",
    "Settings.llm = llm \n",
    "Settings.embed_model = embed_model\n",
    "# Settings.node_parser = SentenceSplitter(chunk_size=512, chunk_overlap=20)\n",
    "# Settings.num_output = 512\n",
    "# Settings.context_window = 3900"
   ]
  },
  {
   "cell_type": "code",
   "execution_count": 20,
   "metadata": {},
   "outputs": [],
   "source": [
    "index = VectorStoreIndex.from_documents(\n",
    "    documents,\n",
    "    # service_context=service_context,\n",
    "    model=embed_model,\n",
    ")"
   ]
  },
  {
   "cell_type": "code",
   "execution_count": 28,
   "metadata": {},
   "outputs": [],
   "source": [
    "retriever = VectorIndexRetriever(\n",
    "    index=index,\n",
    "    similarity_top_k=3,\n",
    "    # vector_store_kwargs={\"score_threshold\": 0.7},\n",
    "    # mmr_threshold=0.8\n",
    ")"
   ]
  },
  {
   "cell_type": "code",
   "execution_count": 29,
   "metadata": {},
   "outputs": [],
   "source": [
    "response_synthesizer = get_response_synthesizer()"
   ]
  },
  {
   "cell_type": "code",
   "execution_count": 30,
   "metadata": {},
   "outputs": [],
   "source": [
    "query_engine = RetrieverQueryEngine(\n",
    "    retriever=retriever,\n",
    "    response_synthesizer=response_synthesizer,\n",
    "    # node_postprocessors=[SimilarityPostprocessor(similarity_cutoff=0.7)],\n",
    ")"
   ]
  },
  {
   "cell_type": "code",
   "execution_count": 31,
   "metadata": {},
   "outputs": [],
   "source": [
    "response = query_engine.query(\"what are the skills\")"
   ]
  },
  {
   "cell_type": "code",
   "execution_count": 32,
   "metadata": {},
   "outputs": [
    {
     "name": "stdout",
     "output_type": "stream",
     "text": [
      "('The skills listed in the context include:\\n'\n",
      " '\\n'\n",
      " '1. Programming Languages: Python, C++\\n'\n",
      " '2. Databases: MySQL, PostgreSQL, SQL Server\\n'\n",
      " '3. Machine Learning: Scikit-learn, TensorFlow, PyTorch, NumPy, Pandas\\n'\n",
      " '4. Web Development: FastAPI, Django, Streamlit\\n'\n",
      " '5. Cloud & Deployment: AWS, Docker\\n'\n",
      " '6. Data Collection: Selenium, BeautifulSoup, Scrapy\\n'\n",
      " '7. NLP: NLTK')\n"
     ]
    }
   ],
   "source": [
    "pprint(response.response)"
   ]
  }
 ],
 "metadata": {
  "kernelspec": {
   "display_name": "nlp2",
   "language": "python",
   "name": "python3"
  },
  "language_info": {
   "codemirror_mode": {
    "name": "ipython",
    "version": 3
   },
   "file_extension": ".py",
   "mimetype": "text/x-python",
   "name": "python",
   "nbconvert_exporter": "python",
   "pygments_lexer": "ipython3",
   "version": "3.12.3"
  }
 },
 "nbformat": 4,
 "nbformat_minor": 2
}
