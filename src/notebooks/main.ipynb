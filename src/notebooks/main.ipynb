{
 "cells": [
  {
   "cell_type": "code",
   "execution_count": 1,
   "metadata": {},
   "outputs": [],
   "source": [
    "import os\n",
    "import requests\n",
    "from pprint import pprint\n",
    "from dotenv import load_dotenv\n",
    "import nest_asyncio\n",
    "\n",
    "from llama_index.embeddings.cohere import CohereEmbedding\n",
    "from llama_index.core import VectorStoreIndex, Document\n",
    "\n",
    "from llama_index.core import VectorStoreIndex, get_response_synthesizer\n",
    "from llama_index.core.retrievers import VectorIndexRetriever, SummaryIndexRetriever, TransformRetriever\n",
    "\n",
    "from llama_index.core.query_engine import RetrieverQueryEngine\n",
    "from llama_index.core.postprocessor import SimilarityPostprocessor\n",
    "\n",
    "from llama_parse import LlamaParse\n",
    "from llama_index.core import SimpleDirectoryReader\n",
    "\n",
    "load_dotenv()\n",
    "nest_asyncio.apply()"
   ]
  },
  {
   "cell_type": "code",
   "execution_count": 2,
   "metadata": {},
   "outputs": [],
   "source": [
    "COHERE_API_KEY = os.environ[\"COHERE_API_KEY\"] \n",
    "LLAMA_CLOUD_API_KEY = os.environ[\"LLAMA_CLOUD_API_KEY\"]\n",
    "\n",
    "doc_name = \"Academic-CV-V1.pdf\""
   ]
  },
  {
   "cell_type": "markdown",
   "metadata": {},
   "source": [
    "### Reading Data"
   ]
  },
  {
   "cell_type": "code",
   "execution_count": 3,
   "metadata": {},
   "outputs": [],
   "source": [
    "# # random text about books\n",
    "# books = [\n",
    "#     \"Harry Potter is a series of seven fantasy novels written by British author J. K. Rowling. The novels chronicle the lives of a young wizard, Harry Potter, and his friends Hermione Granger and Ron Weasley, all of whom are students at Hogwarts School of Witchcraft and Wizardry. The books follow Voldemort's rise to power, Harry's struggle against him, and his eventual downfall.\",\n",
    "#     \"The Lord of the Rings is an epic high-fantasy novel written by English author and scholar J. R. R. Tolkien. The story began as a sequel to Tolkien's 1937 fantasy novel The Hobbit, but eventually developed into a much larger work. Written in stages between 1937 and 1949, The Lord of the Rings is one of the best-selling books in history, with over 150 million copies sold.\",\n",
    "#     \"The Hunger Games is a dystopian novel written by American author Suzanne Collins. It is set in a dark vision of the future, where a totalitarian government, known as the Capitol, exercises full control over the twelve districts of Panem. The novel follows the story of Katniss Everdeen, a sixteen-year-old girl who volunteers to take the place of her younger sister in the annual Hunger Games, a televised competition in which twenty-four children aged twelve to eighteen are chosen at random to fight to the death.\",\n",
    "#     \"The Da Vinci Code is a mystery thriller novel by Dan Brown, first published on March 18, 2003. The novel follows the fictional character Robert Langdon, a Harvard University symbologist, who is summoned to the Louvre Museum in Paris to examine a mysterious painting. The painting is believed to contain hidden clues about the Holy Grail, which is said to be the chalice used by Jesus Christ at the Last Supper.\",\n",
    "#     \"The Alchemist is a novel by Brazilian author Paulo Coelho that was first published in 1988. The story follows the journey of a young Andalusian shepherd boy named Santiago who travels to Egypt in search of a treasure buried in the Pyramids. Along the way, he meets a series of characters who teach him about the world and the nature of his quest. The novel is a philosophical fable about the importance of following one's dreams and the power of the universe to conspire in their fulfillment.\",\n",
    "#     \"The Catcher in the Rye is a novel by American author J. D. Salinger, first published in 1951. The story follows the adventures of sixteen-year-old Holden Caulfield, a troubled teenager who has been expelled from his prep school and spends three days wandering around New York City. The novel is known for its exploration of themes such as alienation, disillusionment, and the struggle for self-identity.\",\n",
    "#     \"The Great Gatsby is a novel by American author F. Scott Fitzgerald, first published in 1925. The story follows the life of Jay Gatsby, a mysterious millionaire who throws extravagant parties on Long Island, and his relationship with Nick Carraway, a young man from the Midwest who becomes his neighbor. The novel is a critique of the American Dream and the excesses of the Roaring Twenties.\",\n",
    "#     \"The Shining is a horror novel by American author Stephen King, first published in 1977. The story follows the life of Jack Torrance, a struggling writer who takes a job as the winter caretaker of the isolated Overlook Hotel in Colorado. Jack and his family, wife Wendy and son Danny, move into the hotel, where they encounter strange occurrences and Jack's descent into madness.\",\n",
    "#     \"The Girl with the Dragon Tattoo is a novel by Swedish author Stieg Larsson, first published in 2005. The story follows the investigation of a series of murders by journalist Mikael Blomkvist and computer hacker Lisbeth Salander. The novel is a critique of the Swedish elite and the media, and it explores themes such as corruption, power, and justice.\",\n",
    "#     \"The Road is a post-apocalyptic novel by American author Cormac McCarthy, first published in 2006. The story follows the journey of a father and his young son as they travel through a desolate and dangerous landscape. The novel is a meditation on themes such as survival, hope, and the nature of human relationships.\",\n",
    "# ]\n",
    "\n",
    "# documents = [Document(text=t) for t in books]"
   ]
  },
  {
   "cell_type": "code",
   "execution_count": 4,
   "metadata": {},
   "outputs": [
    {
     "name": "stdout",
     "output_type": "stream",
     "text": [
      "Started parsing the file under job_id b9443ed1-974b-447d-b4ab-7f5ba4b7789c\n"
     ]
    }
   ],
   "source": [
    "# Using LlamParse to parse the PDF. The API key is should be set in the enviorment variablse. \n",
    "# check https://docs.cloud.llamaindex.ai/llamaparse/getting_started/python\n",
    "parser = LlamaParse(\n",
    "    result_type=\"text\",\n",
    ")\n",
    "\n",
    "# use SimpleDirectoryReader to parse our file\n",
    "file_extractor = {\".pdf\": parser}\n",
    "documents = SimpleDirectoryReader(input_files=[f\"../data/{doc_name}\"], file_extractor=file_extractor).load_data()"
   ]
  },
  {
   "cell_type": "code",
   "execution_count": 10,
   "metadata": {},
   "outputs": [
    {
     "name": "stdout",
     "output_type": "stream",
     "text": [
      "[Document(id_='7fe3a325-b1db-44cc-a7b6-29dfa016f03b', embedding=None, metadata={'file_path': '../data/Academic-CV-V1 .pdf', 'file_name': 'Academic-CV-V1 .pdf', 'file_type': 'application/pdf', 'file_size': 149705, 'creation_date': '2024-08-17', 'last_modified_date': '2024-07-27'}, excluded_embed_metadata_keys=['file_name', 'file_type', 'file_size', 'creation_date', 'last_modified_date', 'last_accessed_date'], excluded_llm_metadata_keys=['file_name', 'file_type', 'file_size', 'creation_date', 'last_modified_date', 'last_accessed_date'], relationships={}, text='HOSSEIN GOLMOHAMMADI                                             COMPUTER SCIENCE STUDENT\\n\\n        +989038029473                        hossein.gmohammadi@gmail.com                              Isfahan-Iran\\n        github.com/artmiss-gns               linkedin.com/in/hossein-golmohammadi-gns                  WIP...\\n\\n   HIGHLIGHTS\\n       Fourth-year CS student specializing in ML, ranked in top 10% of class\\n       4+ years Python expertise, proficient in cloud deployment and ML frameworks\\n       Strong ML theory foundation with hands-on experience in predictive modeling\\n       Aspiring AI researcher, passionate about advancing machine learning and data science\\n\\n   EDUCATION\\n   Bachelor of Science (BS) of Computer Science                                                University of Isfahan\\n        Overall GPA: 3.18/4.0                                                                 2020 - 2024 (Ongoing)\\n        Last 2 years GPA (62 credits): 3.47/4.0\\n        Ranked in the top 10% of class\\n\\n   RESEARCH INTERESTS\\n       Machine Learning                                       Adversarial Machine Learning\\n       Natural Language Processing (NLP)                      Search Engines\\n\\n       Information Retrieval                                  Machine Learning Operations (MLOps)\\n\\n   SELECTED COURSES\\n        Special Topics in Computer Science (Machine Learning/Deep Learning): A+ (19/20)\\n        Artificial Intelligence: A+ (18.5/20)\\n        Data Structures and Algorithms: A (17.8/20)\\n        Nonlinear Optimization: A (17.8/20)\\n        Linear Optimization: A (17/20)\\n        Algorithm Design: A (16.1/20)\\n\\n   ACADEMIC EXPERIENCE\\n      Teaching Assistant at the University of Isfahan                               Algorithms and Data Structures\\n                                                                                    Fall 2023\\n          Developed course materials and designed challenging coding problems\\n          Graded exams and assignments, providing constructive feedback\\n          Collaborated with faculty to enhance course content and student learning outcomes\\n          Demonstrated strong organizational, communication, and problem-solving skills', mimetype='text/plain', start_char_idx=None, end_char_idx=None, text_template='{metadata_str}\\n\\n{content}', metadata_template='{key}: {value}', metadata_seperator='\\n'), Document(id_='133e01c6-0c7e-4051-af38-a23fd0db9d29', embedding=None, metadata={'file_path': '../data/Academic-CV-V1 .pdf', 'file_name': 'Academic-CV-V1 .pdf', 'file_type': 'application/pdf', 'file_size': 149705, 'creation_date': '2024-08-17', 'last_modified_date': '2024-07-27'}, excluded_embed_metadata_keys=['file_name', 'file_type', 'file_size', 'creation_date', 'last_modified_date', 'last_accessed_date'], excluded_llm_metadata_keys=['file_name', 'file_type', 'file_size', 'creation_date', 'last_modified_date', 'last_accessed_date'], relationships={}, text='SKILLS\\n    Programming Languages: Python, C++\\n    Databases: MySQL, PostgreSQL, SQL Server\\n    Machine Learning: Scikit-learn, TensorFlow, PyTorch, NumPy, Pandas,\\n    Web Development: FastAPI, Django, Streamlit\\n    Cloud & Deployment: AWS, Docker\\n    Data Collection: Selenium, BeautifulSoup, Scrapy\\n    NLP: NLTK\\n    Development Tools: Git, Linux\\n\\n PROJECTS\\n    RAG System with Embedded Knowledge Base\\n         Developed RAG system using PDF-based knowledge base with heavy preprocessing\\n         Implemented embedding pipeline using NLTK, spaCy, and sentence-transformers\\n         Integrated LLM with custom retrieval mechanism for context-aware responses\\n         Optimized performance using flash-attn and bitsandbytes for model quantization\\n\\n    RAG System with Search Engine Integration\\n         Implemented Retrieval-Augmented Generation (RAG) using Whoosh for indexing and\\n         search\\n         Integrated LLM (e.g., Groq) for enhanced question-answering capabilities\\n         Developed user interface with Streamlit for easy interaction\\n         Containerized the application using Docker for seamless deployment\\n\\n    Stock Market Prediction using LSTM (github)\\n         Developed LSTM-based model for stock price prediction using PyTorch\\n         Implemented custom data preprocessing pipeline with sklearn for feature scaling and\\n         sequencing\\n\\n    Local LLM-Powered Chatbot with Web Interface (github)\\n         Developed chatbot using Streamlit for UI and Ollama for local LLM integration\\n         Implemented API calls to local Ollama server for model interactions\\n         Designed user-friendly chat interface with message history management\\n\\n    Chronic Kidney Disease Prediction Model (github)\\n         Implemented advanced preprocessing techniques (Isolation Forest, KNNImputer,\\n         feature encoding)\\n         Optimized models using GridSearchCV, RandomizedSearchCV, and BayesSearchCV\\n         Developed and compared 7 ML models including Linear/Logistic Regression, Random\\n         Forest, XGBoost\\n         Achieved 99% accuracy with XGBoost and Random Forest, ensuring good generalization', mimetype='text/plain', start_char_idx=None, end_char_idx=None, text_template='{metadata_str}\\n\\n{content}', metadata_template='{key}: {value}', metadata_seperator='\\n'), Document(id_='58e3b283-f99e-4e07-b6b9-3a3e09d01c62', embedding=None, metadata={'file_path': '../data/Academic-CV-V1 .pdf', 'file_name': 'Academic-CV-V1 .pdf', 'file_type': 'application/pdf', 'file_size': 149705, 'creation_date': '2024-08-17', 'last_modified_date': '2024-07-27'}, excluded_embed_metadata_keys=['file_name', 'file_type', 'file_size', 'creation_date', 'last_modified_date', 'last_accessed_date'], excluded_llm_metadata_keys=['file_name', 'file_type', 'file_size', 'creation_date', 'last_modified_date', 'last_accessed_date'], relationships={}, text='     Music Streaming Service API (github)\\n         Designed a comprehensive database system using SQL and database design principles\\n         Developed a robust and efficient API using FastAPI and Python\\n         Implemented RESTful architecture and API best practices\\n\\n     Reinforcement-Learning-search (github)\\n         Implemented Q-learning algorithm for optimal path finding in Snake and Ladders game\\n         Developed A* search algorithm as an alternative approach for comparison\\n\\n     Liver Cirrhosis Prediction Model (github)\\n         Developed model to predict patient status (Alive, Dead, Transplanted) using clinical data\\n         Implemented advanced EDA with Pandas Profiling, SMOTE for imbalanced data\\n         Created custom pipelines for preprocessing, outlier removal (IQR, Isolation Forest)\\n         Optimized XGBoost using Bayesian optimization; achieved 91% accuracy, 0.90 F1-score\\n\\nCOURSES & CERTIFICATES\\n         Supervised Machine Learning: Regression and ClassificationSupervised (credential )\\n         Advanced Learning AlgorithmsAdvanced Learning Algorithms (credential )\\n         Unsupervised Learning, Recommenders, Reinforcement Learning (credential )\\n         Coursera Deep Learning Specialization\\n         Pytopia Statistics, Data Processing, Visualization, and Machine Learning\\n         Pytopia Python Programming\\n         ZTM PyTorch for Depp Learning\\n         Docker & Kubernetes: The Practical Guide\\n\\nEXTRACURRICULAR ACTIVITIES\\n     Algorithm Section Head, \\'Psycity\\' Nationwide Coding Contest                             Summer 2023 - Winter 2024\"\\n         Designed algorithmic questions for the programming section\\n         Managed a team of problem setters\\n         Oversaw both on-site and online participation for approximately 100 contestants\\n         Actively involved in competition management during the 3-day event\"\\n\\n     Computer Science Club                                                                    University of Isfahan\\n          Regularly attended meetings and workshops                                          2020 - 2024 (Ongoing)\\n         Contributed to fostering a community of tech enthusiasts on campus\\n\\nEXAM SCORES\\n     IELTS: Scheduled for September', mimetype='text/plain', start_char_idx=None, end_char_idx=None, text_template='{metadata_str}\\n\\n{content}', metadata_template='{key}: {value}', metadata_seperator='\\n')]\n"
     ]
    }
   ],
   "source": [
    "print(documents)"
   ]
  },
  {
   "cell_type": "markdown",
   "metadata": {},
   "source": [
    "### Model initialization"
   ]
  },
  {
   "cell_type": "code",
   "execution_count": 28,
   "metadata": {},
   "outputs": [],
   "source": [
    "embed_model = CohereEmbedding(\n",
    "    api_key=COHERE_API_KEY,\n",
    "    model_name=\"embed-english-v3.0\",\n",
    "    input_type=\"search_query\",\n",
    ")"
   ]
  },
  {
   "cell_type": "code",
   "execution_count": 29,
   "metadata": {},
   "outputs": [],
   "source": [
    "# create an index from the parsed markdown\n",
    "index = VectorStoreIndex.from_documents(documents, embed_model=embed_model)"
   ]
  },
  {
   "cell_type": "markdown",
   "metadata": {},
   "source": [
    "### Retriever"
   ]
  },
  {
   "cell_type": "code",
   "execution_count": null,
   "metadata": {},
   "outputs": [],
   "source": [
    "# retriever = index.as_retriever()\n",
    "# nodes = retriever.retrieve(\"Contact\")\n",
    "# for node in nodes:\n",
    "#     print(node.node.get_content())\n",
    "#     print(\"\\n\\n\")"
   ]
  },
  {
   "cell_type": "code",
   "execution_count": null,
   "metadata": {},
   "outputs": [],
   "source": [
    "retriever = VectorIndexRetriever(\n",
    "    index=index,\n",
    "    similarity_top_k=3,\n",
    "    vector_store_kwargs={\"score_threshold\": 0.7},\n",
    ")"
   ]
  },
  {
   "cell_type": "code",
   "execution_count": null,
   "metadata": {},
   "outputs": [],
   "source": [
    "nodes = retriever.retrieve(\"What are his GPA\")\n",
    "for node in nodes:\n",
    "    print(node.node.get_content())\n",
    "    print(\"\\n\\n\")"
   ]
  }
 ],
 "metadata": {
  "kernelspec": {
   "display_name": "main",
   "language": "python",
   "name": "python3"
  },
  "language_info": {
   "codemirror_mode": {
    "name": "ipython",
    "version": 3
   },
   "file_extension": ".py",
   "mimetype": "text/x-python",
   "name": "python",
   "nbconvert_exporter": "python",
   "pygments_lexer": "ipython3",
   "version": "3.12.3"
  }
 },
 "nbformat": 4,
 "nbformat_minor": 2
}
